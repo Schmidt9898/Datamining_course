{
 "cells": [
  {
   "cell_type": "code",
   "execution_count": 16,
   "metadata": {},
   "outputs": [],
   "source": [
    "import numpy as np\n",
    "import pandas as pd\n",
    "\n",
    "from sklearn.model_selection import train_test_split\n",
    "from sklearn.svm import SVC\n",
    "\n"
   ]
  },
  {
   "cell_type": "code",
   "execution_count": 33,
   "metadata": {},
   "outputs": [],
   "source": [
    "data = pd.read_csv('onlinefraud.csv')\n",
    "\n"
   ]
  },
  {
   "cell_type": "code",
   "execution_count": 3,
   "metadata": {},
   "outputs": [],
   "source": [
    "#data.columns\n",
    "\n",
    "x = data[['step', 'type', 'amount', 'nameOrig', 'oldbalanceOrg', 'newbalanceOrig','nameDest', 'oldbalanceDest', 'newbalanceDest','isFlaggedFraud']]\n",
    "\n",
    "y = data['isFraud']\n",
    "\n",
    "#data[y]\n",
    "x_train,x_test,y_train,y_test = train_test_split(x,y,test_size=0.33,random_state=42)\n",
    "\n",
    "#data[data['isFraud']]\n",
    "\n"
   ]
  },
  {
   "cell_type": "code",
   "execution_count": 9,
   "metadata": {},
   "outputs": [
    {
     "name": "stdout",
     "output_type": "stream",
     "text": [
      "\n",
      "\n",
      "amount\n",
      "nameOrig\n",
      "\n",
      "\n",
      "\n",
      "oldbalanceDest\n",
      "newbalanceDest\n",
      "\n",
      "\n"
     ]
    }
   ],
   "source": [
    "for c in data.columns:\n",
    "\tprint(c if data.shape[0] - data[c].nunique() < data.shape[0]/2 else \"\")\n",
    "\n"
   ]
  },
  {
   "cell_type": "code",
   "execution_count": 34,
   "metadata": {},
   "outputs": [],
   "source": [
    "\n",
    "x = data[[\"amount\",\"oldbalanceDest\",\"newbalanceDest\"]] #data[['step', 'type', 'amount', 'nameOrig', 'oldbalanceOrg', 'newbalanceOrig','nameDest', 'oldbalanceDest', 'newbalanceDest','isFlaggedFraud']]\n",
    "y = data['isFraud']\n",
    "x_train,x_test,y_train,y_test = train_test_split(x,y,test_size=0.33,random_state=42)\n",
    "\n",
    "#ssss = pd.get_dummies(data['nameOrig'])\n",
    "\n",
    "model = SVC()\n",
    "model.fit(x_train,y_train)\n",
    "res = model.predict(x_test)\n",
    "\n",
    "#d = pd.get_dummies(data)"
   ]
  }
 ],
 "metadata": {
  "kernelspec": {
   "display_name": "Python 3.10.6 ('python_env': venv)",
   "language": "python",
   "name": "python3"
  },
  "language_info": {
   "codemirror_mode": {
    "name": "ipython",
    "version": 3
   },
   "file_extension": ".py",
   "mimetype": "text/x-python",
   "name": "python",
   "nbconvert_exporter": "python",
   "pygments_lexer": "ipython3",
   "version": "3.10.6"
  },
  "orig_nbformat": 4,
  "vscode": {
   "interpreter": {
    "hash": "2c04eb4a0b16f4d74363df0e3af9c29b1d83d6e0a755e6e140f7182eb118dcf6"
   }
  }
 },
 "nbformat": 4,
 "nbformat_minor": 2
}

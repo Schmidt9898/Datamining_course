{
 "cells": [
  {
   "cell_type": "code",
   "execution_count": 1,
   "metadata": {},
   "outputs": [],
   "source": [
    "import numpy as np\n",
    "import matplotlib.pyplot as plt\n",
    "import pandas as pd\n",
    "\n",
    "from sklearn.decomposition import PCA,KernelPCA\n",
    "\n",
    "\n",
    "from sklearn.tree import DecisionTreeClassifier as DTC\n",
    "from sklearn.linear_model import LinearRegression as LR\n",
    "from sklearn.metrics import accuracy_score as acc\n",
    "from sklearn.metrics import balanced_accuracy_score as bas\n",
    "from sklearn.metrics import plot_confusion_matrix as pcm\n",
    "from sklearn import tree\n",
    "from sklearn.model_selection import train_test_split\n",
    "\n",
    "from sklearn import linear_model\n",
    "\n"
   ]
  },
  {
   "cell_type": "code",
   "execution_count": 2,
   "metadata": {},
   "outputs": [],
   "source": [
    "# Obtain the data for linear regression\n",
    "\n",
    "x_train = pd.read_csv('data/X_train.csv')\n",
    "y_train = pd.read_csv('data/y_train.csv')\n",
    "#Test = pd.read_csv('data/X_test.csv')\n",
    "#y_train = pd.read_csv('data/y_train.csv')\n",
    "\n",
    "x_train.drop('Id', inplace=True, axis=1)\n",
    "x_train = pd.get_dummies(x_train)\n",
    "x_train = x_train.fillna(x_train.median())\n",
    "\n",
    "train, test, y_train, y_test = train_test_split(x_train, y_train.Expected,test_size=0.6, random_state=42)\n",
    "\n",
    "\n"
   ]
  },
  {
   "cell_type": "code",
   "execution_count": 3,
   "metadata": {},
   "outputs": [],
   "source": [
    "Test = pd.read_csv('data/X_test.csv')\n",
    "Test.drop('Id', inplace=True, axis=1)\n",
    "Test = pd.get_dummies(Test)\n",
    "Test = Test.fillna(Test.median())"
   ]
  },
  {
   "cell_type": "code",
   "execution_count": 4,
   "metadata": {},
   "outputs": [
    {
     "name": "stdout",
     "output_type": "stream",
     "text": [
      "ab_000 20\n",
      "ac_000 1282\n",
      "ad_000 1201\n",
      "ae_000 165\n",
      "af_000 188\n",
      "ag_000 54\n",
      "ag_001 200\n",
      "ag_002 792\n",
      "ag_003 2804\n",
      "ag_008 7414\n",
      "ag_009 2675\n",
      "ai_000 1402\n",
      "aj_000 434\n",
      "ak_000 50\n",
      "al_000 3828\n",
      "am_0 4329\n",
      "ar_000 40\n",
      "as_000 8\n",
      "at_000 1342\n",
      "au_000 16\n",
      "av_000 2187\n",
      "ax_000 1291\n",
      "ay_000 144\n",
      "ay_001 287\n",
      "ay_002 296\n",
      "ay_003 320\n",
      "ay_004 546\n",
      "ay_005 6861\n",
      "ay_009 147\n",
      "az_000 4982\n",
      "az_001 3763\n",
      "az_002 4549\n",
      "az_006 5215\n",
      "az_007 1411\n",
      "az_008 483\n",
      "az_009 141\n",
      "ba_008 4312\n",
      "ba_009 2371\n",
      "bc_000 1428\n",
      "bd_000 1858\n",
      "be_000 2123\n",
      "bf_000 600\n",
      "bk_000 6451\n",
      "bl_000 5682\n",
      "bm_000 3553\n",
      "bn_000 2596\n",
      "bo_000 2033\n",
      "bp_000 1693\n",
      "bq_000 1435\n",
      "br_000 1265\n",
      "bs_000 7660\n",
      "bz_000 6577\n",
      "cd_000 1\n",
      "cf_000 222\n",
      "cg_000 394\n",
      "ch_000 2\n",
      "cj_000 2497\n",
      "cl_000 501\n",
      "cm_000 1193\n",
      "cn_000 521\n",
      "cn_001 1952\n",
      "cn_002 5710\n",
      "cn_008 5388\n",
      "cn_009 1550\n",
      "co_000 1033\n",
      "cp_000 1209\n",
      "cr_000 21\n",
      "cs_000 5507\n",
      "cs_001 1869\n",
      "cs_008 548\n",
      "cs_009 29\n",
      "ct_000 1606\n",
      "cu_000 1954\n",
      "cy_000 353\n",
      "cz_000 4367\n",
      "da_000 114\n",
      "db_000 98\n",
      "dd_000 3739\n",
      "de_000 1123\n",
      "df_000 154\n",
      "dg_000 405\n",
      "dh_000 486\n",
      "di_000 1857\n",
      "dj_000 24\n",
      "dk_000 62\n",
      "dl_000 47\n",
      "dm_000 53\n",
      "dp_000 6015\n",
      "dq_000 2831\n",
      "dr_000 2407\n",
      "dt_000 7316\n",
      "dx_000 4448\n",
      "dy_000 2475\n",
      "dz_000 27\n",
      "ea_000 74\n",
      "ed_000 2353\n",
      "ee_009 4100\n",
      "ef_000 16\n",
      "eg_000 29\n"
     ]
    }
   ],
   "source": [
    "len(train)\n",
    "#print(x_train.columns)\n",
    "#does the same as next\n",
    "#x_train.nunique()\n",
    "headers = []\n",
    "\n",
    "for col in train.columns:\n",
    "\tif len(train[col].value_counts()) < len(train)/2:\n",
    "\t\theaders.append(col)\n",
    "\t\tprint(col,len(train[col].value_counts()))\n",
    "\n",
    "train = train[headers]\n",
    "Test = Test[headers]\n",
    "test = test[headers]\n"
   ]
  },
  {
   "cell_type": "code",
   "execution_count": null,
   "metadata": {},
   "outputs": [],
   "source": [
    "#x_train.drop('Id', inplace=True, axis=1)\n",
    "train = pd.get_dummies(train)\n",
    "train = train.fillna(train.median())"
   ]
  },
  {
   "cell_type": "code",
   "execution_count": 5,
   "metadata": {},
   "outputs": [
    {
     "data": {
      "text/plain": [
       "0    15669\n",
       "1      291\n",
       "Name: Expected, dtype: int64"
      ]
     },
     "execution_count": 5,
     "metadata": {},
     "output_type": "execute_result"
    }
   ],
   "source": [
    "#y_train.Expected\n",
    "#y_train.nunique()\n",
    "y_train.value_counts()"
   ]
  },
  {
   "cell_type": "code",
   "execution_count": 15,
   "metadata": {},
   "outputs": [
    {
     "name": "stdout",
     "output_type": "stream",
     "text": [
      "0.9878028404344193\n",
      "0.8172718371470313\n"
     ]
    },
    {
     "name": "stderr",
     "output_type": "stream",
     "text": [
      "d:\\Programing\\Gitted\\Datamining_course\\python_env\\lib\\site-packages\\sklearn\\utils\\deprecation.py:87: FutureWarning: Function plot_confusion_matrix is deprecated; Function `plot_confusion_matrix` is deprecated in 1.0 and will be removed in 1.2. Use one of the class methods: ConfusionMatrixDisplay.from_predictions or ConfusionMatrixDisplay.from_estimator.\n",
      "  warnings.warn(msg, category=FutureWarning)\n"
     ]
    },
    {
     "data": {
      "image/png": "[encoded data removed]",
      "text/plain": [
       "<Figure size 640x480 with 2 Axes>"
      ]
     },
     "metadata": {},
     "output_type": "display_data"
    }
   ],
   "source": [
    "\n",
    "clf = DTC(random_state=42,criterion = \"gini\",min_samples_split = 50,max_features = \"sqrt\")#\"entropy\"  #log_loss\n",
    "clf.fit(train,y_train)\n",
    "predicted_Y = clf.predict(test)\n",
    "Y_test_proba = clf.predict_proba(test)[:,1]\n",
    "\n",
    "\n",
    "print(acc(y_test,predicted_Y))\n",
    "\n",
    "print(bas(y_test,predicted_Y))\n",
    "pcm(clf,train,y_train)\n",
    "predicted_Y = clf.predict(Test)\n"
   ]
  },
  {
   "cell_type": "code",
   "execution_count": null,
   "metadata": {},
   "outputs": [],
   "source": [
    "pca = PCA(n_components=12)\n",
    "pca = pca.fit(train)\n",
    "train_pca = pca.transform(train)\n",
    "\n",
    "test_pca = pca.transform(test)\n",
    "\n",
    "Real_pca = pca.transform(Test)\n",
    "\n",
    "#reg = linear_model.BayesianRidge()\n",
    "\n",
    "#plt.scatter(train_pca)\n",
    "#plt.scatter(train_pca[:,0],train_pca[:,1],c=y_train)\n",
    "#plt.show()\n",
    "\n",
    "clf = DTC(random_state=42,criterion = \"gini\",min_samples_split = 100,max_features = \"sqrt\")#\"entropy\"  #log_loss\n",
    "clf = clf.fit(train_pca,y_train)\n",
    "#reg = reg.fit(train_pca,y_train)\n",
    "\n",
    "#print(reg.coef_)\n",
    "\n",
    "predicted_Y = clf.predict(test_pca)\n",
    "#predicted_Y = reg.predict(test_pca)\n",
    "#Y_test_proba = clf.predict_proba(test_pca)[:,1]\n",
    "\n",
    "\n",
    "print(acc(y_test,predicted_Y))\n",
    "\n",
    "print(bas(y_test,predicted_Y,adjusted=True))\n",
    "#print(bas(y_test,predicted_Y,adjusted=False))\n",
    "\n",
    "pcm(clf,train_pca,y_train)\n",
    "\n"
   ]
  },
  {
   "cell_type": "code",
   "execution_count": 16,
   "metadata": {},
   "outputs": [
    {
     "name": "stdout",
     "output_type": "stream",
     "text": [
      "17100 300\n"
     ]
    }
   ],
   "source": [
    "#predicted_Y = clf.predict(Real_pca)\n",
    "print(len(predicted_Y), sum(predicted_Y))"
   ]
  },
  {
   "cell_type": "code",
   "execution_count": null,
   "metadata": {},
   "outputs": [],
   "source": [
    "len(predicted_Y)\n",
    "\n",
    "f = open(\"schmidt_laszlo_reduced_dtc.csv\",'w')\n",
    "\n",
    "f.write(\"Id,Predicted\\n\")\n",
    "for i,val in enumerate(predicted_Y):\n",
    "\tf.write(\"{},{}\\n\".format(i,val))\n",
    "\n",
    "f.flush()\n",
    "f.close()"
   ]
  },
  {
   "cell_type": "code",
   "execution_count": null,
   "metadata": {},
   "outputs": [],
   "source": [
    "pca = PCA(n_components=2)\n",
    "pca = pca.fit(train)\n",
    "a = pca.transform(train)\n",
    "print(pca.explained_variance_ratio_)\n",
    "\n",
    "print(len(train),\",\",len(a))\n",
    "#plt.scatter(a,y_test)\n",
    "#plt.show()\n",
    "\n"
   ]
  }
 ],
 "metadata": {
  "kernelspec": {
   "display_name": "Python 3.10.6 ('python_env': venv)",
   "language": "python",
   "name": "python3"
  },
  "language_info": {
   "codemirror_mode": {
    "name": "ipython",
    "version": 3
   },
   "file_extension": ".py",
   "mimetype": "text/x-python",
   "name": "python",
   "nbconvert_exporter": "python",
   "pygments_lexer": "ipython3",
   "version": "3.10.6"
  },
  "orig_nbformat": 4,
  "vscode": {
   "interpreter": {
    "hash": "2c04eb4a0b16f4d74363df0e3af9c29b1d83d6e0a755e6e140f7182eb118dcf6"
   }
  }
 },
 "nbformat": 4,
 "nbformat_minor": 2
}

{
 "cells": [
  {
   "cell_type": "code",
   "execution_count": 7,
   "metadata": {},
   "outputs": [],
   "source": [
    "import numpy as np\n",
    "import matplotlib.pyplot as plt\n",
    "import pandas as pd\n",
    "\n",
    "from sklearn.decomposition import PCA,KernelPCA\n",
    "\n",
    "from sklearn.metrics import fbeta_score\n",
    "from sklearn.neighbors import KNeighborsClassifier\n",
    "from sklearn.ensemble import RandomForestClassifier\n",
    "from sklearn.naive_bayes import GaussianNB\n",
    "from sklearn.tree import DecisionTreeClassifier as DTC\n",
    "from sklearn.linear_model import LinearRegression as LR\n",
    "from sklearn.metrics import accuracy_score as acc\n",
    "from sklearn.metrics import balanced_accuracy_score as bas\n",
    "from sklearn.metrics import plot_confusion_matrix as pcm\n",
    "from sklearn.metrics import precision_score\n",
    "from sklearn.metrics import recall_score\n",
    "from sklearn import tree\n",
    "from sklearn.model_selection import train_test_split\n",
    "\n",
    "from sklearn import linear_model\n",
    "import sweetviz as sv\n"
   ]
  },
  {
   "cell_type": "code",
   "execution_count": 36,
   "metadata": {},
   "outputs": [
    {
     "name": "stderr",
     "output_type": "stream",
     "text": [
      "C:\\Users\\Schmidtlacus\\AppData\\Local\\Temp\\ipykernel_10952\\1553505078.py:8: FutureWarning: In a future version of pandas all arguments of concat except for the argument 'objs' will be keyword-only.\n",
      "  data = pd.concat([x_train,y_train.Expected],1)# adding result here remove later step\n"
     ]
    }
   ],
   "source": [
    "# Obtain the data for linear regression\n",
    "\n",
    "x_train = pd.read_csv('data/X_train.csv')\n",
    "y_train = pd.read_csv('data/y_train.csv')\n",
    "\n",
    "\n",
    "\n",
    "data = pd.concat([x_train,y_train.Expected],1)# adding result here remove later step\n",
    "#Test = pd.read_csv('data/X_test.csv')\n",
    "#y_train = pd.read_csv('data/y_train.csv')\n",
    "\n",
    "class_1 = np.where(y_train.Expected == 1)\n",
    "class_0 = np.where(y_train.Expected == 0)\n",
    "\n",
    "class_1 = pd.DataFrame(data,index=class_1[0], columns=data.columns)\n",
    "class_0 = pd.DataFrame(data,index=class_0[0], columns=data.columns)\n",
    "\n",
    "\n",
    "class_0 = class_0.sample(n = len(class_1))\n",
    "\n",
    "frames = [class_1, class_0]\n",
    "\n",
    "result = pd.concat(frames)\n",
    "\n",
    "x_train = result.sample(n = len(result))#randomise\n",
    "\n",
    "#train_report = sv.analyze(x_train)\n",
    "#train_report.show_html(\"train_report.html\",open_browser=True)\n",
    "\n",
    "\n",
    "x_train.drop('Id', inplace=True, axis=1)\n",
    "y_train = x_train['Expected']\n",
    "x_train.drop('Expected', inplace=True, axis=1) # we delete the result\n",
    "#x_train = pd.get_dummies(x_train)\n",
    "#print(\"isnasum \",x_train.isna().sum())\n",
    "x_train = x_train.fillna(x_train.median())\n",
    "\n",
    "x_train, x_test, y_train, y_test = train_test_split(x_train, y_train,test_size=0.5, random_state=42)\n",
    "\n",
    "\n",
    "train_res = y_train \n",
    "test_res = y_test\n",
    "\n",
    "#train_data, test_data, train_res, test_res\n"
   ]
  },
  {
   "cell_type": "code",
   "execution_count": 37,
   "metadata": {},
   "outputs": [],
   "source": [
    "unknown = pd.read_csv('data/X_test.csv')\n",
    "unknown.drop('Id', inplace=True, axis=1)\n",
    "#unknown = pd.get_dummies(unknown)\n",
    "unknown = unknown.fillna(unknown.median())"
   ]
  },
  {
   "cell_type": "code",
   "execution_count": 45,
   "metadata": {},
   "outputs": [
    {
     "name": "stdout",
     "output_type": "stream",
     "text": [
      "170\n",
      "aa_000 5\n",
      "ab_000 672\n",
      "ac_000 99\n",
      "ad_000 18\n",
      "ae_000 701\n",
      "af_000 701\n",
      "ag_000 677\n",
      "ah_000 3\n",
      "ai_000 428\n",
      "aj_000 491\n",
      "ak_000 705\n",
      "al_000 266\n",
      "an_000 2\n",
      "ao_000 2\n",
      "ap_000 2\n",
      "aq_000 4\n",
      "ar_000 612\n",
      "as_000 716\n",
      "at_000 596\n",
      "au_000 707\n",
      "av_000 121\n",
      "ax_000 122\n",
      "ay_000 693\n",
      "az_000 25\n",
      "ba_000 25\n",
      "bb_000 2\n",
      "bc_000 136\n",
      "bd_000 32\n",
      "be_000 49\n",
      "bf_000 208\n",
      "bg_000 3\n",
      "bh_000 2\n",
      "bi_000 2\n",
      "bj_000 3\n",
      "bk_000 4\n",
      "bl_000 5\n",
      "bm_000 7\n",
      "bn_000 8\n",
      "bo_000 8\n",
      "bp_000 9\n",
      "bq_000 9\n",
      "br_000 9\n",
      "bs_000 2\n",
      "bt_000 2\n",
      "bu_000 2\n",
      "bv_000 2\n",
      "bx_000 0\n",
      "by_000 26\n",
      "bz_000 89\n",
      "ca_000 2\n",
      "cb_000 2\n",
      "cc_000 20\n",
      "cd_000 0\n",
      "ce_000 197\n",
      "cf_000 526\n",
      "cg_000 26\n",
      "ch_000 721\n",
      "ci_000 2\n",
      "cj_000 520\n",
      "ck_000 1\n",
      "cl_000 470\n",
      "cm_000 240\n",
      "cn_000 532\n",
      "co_000 92\n",
      "cp_000 143\n",
      "cq_000 2\n",
      "cr_000 716\n",
      "cs_000 25\n",
      "ct_000 23\n",
      "cu_000 20\n",
      "cv_000 14\n",
      "cx_000 19\n",
      "cy_000 611\n",
      "cz_000 74\n",
      "da_000 714\n",
      "db_000 605\n",
      "dc_000 14\n",
      "dd_000 13\n",
      "de_000 12\n",
      "df_000 695\n",
      "dg_000 688\n",
      "dh_000 629\n",
      "di_000 604\n",
      "dj_000 721\n",
      "dk_000 719\n",
      "dl_000 720\n",
      "dm_000 719\n",
      "dn_000 2\n",
      "do_000 97\n",
      "dp_000 96\n",
      "dq_000 559\n",
      "dr_000 559\n",
      "ds_000 21\n",
      "dt_000 21\n",
      "du_000 27\n",
      "dv_000 27\n",
      "dx_000 512\n",
      "dy_000 484\n",
      "dz_000 714\n",
      "ea_000 711\n",
      "eb_000 151\n",
      "ed_000 49\n",
      "ee_000 25\n",
      "ef_000 716\n",
      "eg_000 714\n",
      "50\n"
     ]
    }
   ],
   "source": [
    "print(len(x_train.columns))\n",
    "#print(x_train.columns)\n",
    "#does the same as next\n",
    "#x_train.nunique()\n",
    "#print(\"isnasum \",x_train.isna().sum())\n",
    "headers = []\n",
    "\n",
    "for col in x_train.columns:\n",
    "\tif \"000\" in col:\n",
    "\t\tprint(col,(x_train[col] == 0).sum())\n",
    "\t\t#print(col)\n",
    "\t\tcontinue\n",
    "\tif (x_train[col] == 0).sum() < len(x_train)/2:\n",
    "\t\t#print(col,(x_train[col] == 0).sum(),len(x_train[col].value_counts()))\n",
    "\t\theaders.append(col)\n",
    "\n",
    "#for col in x_train.columns:\n",
    "#\tif len(x_train[col].value_counts()) < len(x_train)/2:\n",
    "#\t\theaders.append(col)\n",
    "\t\t#print(col,len(x_train[col].value_counts()))\n",
    "\n",
    "\n",
    "train_data = x_train[headers]\n",
    "test_data = x_test[headers]\n",
    "\n",
    "print(len(headers))\n",
    "\n",
    "unknown_data = unknown[headers]\n"
   ]
  },
  {
   "cell_type": "code",
   "execution_count": 9,
   "metadata": {},
   "outputs": [],
   "source": [
    "train_data = x_train\n",
    "test_data = x_test\n",
    "unknown_data = unknown"
   ]
  },
  {
   "cell_type": "code",
   "execution_count": 41,
   "metadata": {},
   "outputs": [
    {
     "name": "stdout",
     "output_type": "stream",
     "text": [
      "ag_003 355\n",
      "ag_004 643\n",
      "ag_005 681\n",
      "ag_006 686\n",
      "ag_007 572\n",
      "ag_008 494\n",
      "am_0 421\n",
      "ay_006 499\n",
      "ay_007 638\n",
      "ay_008 658\n",
      "az_001 581\n",
      "az_002 610\n",
      "az_003 651\n",
      "az_004 677\n",
      "az_005 689\n",
      "az_006 446\n",
      "ba_001 681\n",
      "ba_002 667\n",
      "ba_003 666\n",
      "ba_004 656\n",
      "ba_005 647\n",
      "ba_006 652\n",
      "ba_007 608\n",
      "ba_008 465\n",
      "ba_009 360\n",
      "cn_002 488\n",
      "cn_003 673\n",
      "cn_004 689\n",
      "cn_005 683\n",
      "cn_006 659\n",
      "cn_007 596\n",
      "cn_008 540\n",
      "cn_009 357\n",
      "cs_001 525\n",
      "cs_002 632\n",
      "cs_003 664\n",
      "cs_004 679\n",
      "cs_005 688\n",
      "cs_006 688\n",
      "cs_007 555\n",
      "cs_008 165\n",
      "ec_00 496\n",
      "ee_001 682\n",
      "ee_002 669\n",
      "ee_003 652\n",
      "ee_004 649\n",
      "ee_005 644\n",
      "ee_006 633\n",
      "ee_007 612\n",
      "ee_008 553\n",
      "1    362\n",
      "0    360\n",
      "Name: Expected, dtype: int64\n",
      "0    362\n",
      "1    360\n",
      "Name: Expected, dtype: int64\n"
     ]
    }
   ],
   "source": [
    "\n",
    "#for i in train_res.values:\n",
    "#\tprint(i)\n",
    "\n",
    "#train_res.loc(train_res[\"Expected\"]==1)\n",
    "\n",
    "\n",
    "\n",
    "for col in train_data.columns:\n",
    "\t#if len(train_data[col].value_counts()) < len(train_data):\n",
    "\t\t#headers.append(col)\n",
    "\tprint(col,len(train_data[col].value_counts()))\n",
    "\n",
    "\n",
    "\n",
    "#y_train.Expected\n",
    "#y_train.nunique()\n",
    "print(train_res.value_counts())\n",
    "print(test_res.value_counts())\n"
   ]
  },
  {
   "cell_type": "code",
   "execution_count": 42,
   "metadata": {},
   "outputs": [
    {
     "name": "stdout",
     "output_type": "stream",
     "text": [
      "0.9002770083102493\n",
      "0.9002148557397176\n",
      "Error: 72\n",
      "0.9101382488479263\n",
      "precision 0.9186046511627907\n",
      "recall 0.8777777777777778\n"
     ]
    },
    {
     "name": "stderr",
     "output_type": "stream",
     "text": [
      "d:\\Programing\\Gitted\\Datamining_course\\python_env\\lib\\site-packages\\sklearn\\utils\\deprecation.py:87: FutureWarning: Function plot_confusion_matrix is deprecated; Function `plot_confusion_matrix` is deprecated in 1.0 and will be removed in 1.2. Use one of the class methods: ConfusionMatrixDisplay.from_predictions or ConfusionMatrixDisplay.from_estimator.\n",
      "  warnings.warn(msg, category=FutureWarning)\n"
     ]
    },
    {
     "data": {
      "image/png": "[encoded data removed]",
      "text/plain": [
       "<Figure size 640x480 with 2 Axes>"
      ]
     },
     "metadata": {},
     "output_type": "display_data"
    }
   ],
   "source": [
    "\n",
    "clf_dtc = DTC(random_state=42,criterion = \"entropy\",min_samples_split = 50,max_features = \"sqrt\")#\"entropy\"  #log_loss #gini\n",
    "clf_dtc.fit(train_data,train_res)\n",
    "predicted_Y = clf_dtc.predict(test_data)\n",
    "Y_test_proba = clf_dtc.predict_proba(test_data)[:,1]\n",
    "\n",
    "#predicted_Y = [ i>0.2 for i in Y_test_proba]\n",
    "\n",
    "print(acc(test_res,predicted_Y))\n",
    "\n",
    "print(bas(test_res,predicted_Y))\n",
    "pcm(clf_dtc,test_data,test_res)\n",
    "error = 0\n",
    "for i in range(len(test_res)):\n",
    "\tif test_res._values[i] != predicted_Y[i]:\n",
    "\t\t#print(test_res._values[i],predicted_Y[i],Y_test_proba[i])\n",
    "\t\terror += 1 \n",
    "print(\"Error:\",error)\n",
    "print(fbeta_score(test_res, predicted_Y, average='binary', beta=0.5))\n",
    "print(\"precision\",precision_score(test_res,predicted_Y))\n",
    "print(\"recall\",recall_score(test_res,predicted_Y))\n",
    "\n",
    "#predicted_Y = clf.predict(Test)\n"
   ]
  },
  {
   "cell_type": "code",
   "execution_count": 44,
   "metadata": {},
   "outputs": [
    {
     "name": "stdout",
     "output_type": "stream",
     "text": [
      "0.8808864265927978\n",
      "0.8806936771025169\n"
     ]
    },
    {
     "name": "stderr",
     "output_type": "stream",
     "text": [
      "d:\\Programing\\Gitted\\Datamining_course\\python_env\\lib\\site-packages\\sklearn\\utils\\deprecation.py:87: FutureWarning: Function plot_confusion_matrix is deprecated; Function `plot_confusion_matrix` is deprecated in 1.0 and will be removed in 1.2. Use one of the class methods: ConfusionMatrixDisplay.from_predictions or ConfusionMatrixDisplay.from_estimator.\n",
      "  warnings.warn(msg, category=FutureWarning)\n"
     ]
    },
    {
     "data": {
      "text/plain": [
       "<sklearn.metrics._plot.confusion_matrix.ConfusionMatrixDisplay at 0x27d3ad849a0>"
      ]
     },
     "execution_count": 44,
     "metadata": {},
     "output_type": "execute_result"
    },
    {
     "data": {
      "image/png": "[encoded data removed]",
      "text/plain": [
       "<Figure size 640x480 with 2 Axes>"
      ]
     },
     "metadata": {},
     "output_type": "display_data"
    }
   ],
   "source": [
    "clf_knc = KNeighborsClassifier(2) \n",
    "#DTC(random_state=42,criterion = \"gini\",min_samples_split = 50,max_features = \"sqrt\")#\"entropy\"  #log_loss\n",
    "\n",
    "clf_knc.fit(train_data,train_res)\n",
    "predicted_Y = clf_knc.predict(test_data)\n",
    "Y_test_proba = clf_knc.predict_proba(test_data)[:,1]\n",
    "\n",
    "\n",
    "#predicted_Y = [ i>0.2 for i in Y_test_proba]\n",
    "\n",
    "\n",
    "print(acc(test_res,predicted_Y))\n",
    "\n",
    "print(bas(test_res,predicted_Y))\n",
    "pcm(clf_knc,test_data,test_res)\n",
    "#predicted_Y = clf.predict(Test)"
   ]
  },
  {
   "cell_type": "code",
   "execution_count": 34,
   "metadata": {},
   "outputs": [
    {
     "name": "stdout",
     "output_type": "stream",
     "text": [
      "0.9556786703601108\n",
      "0.9552561185586029\n"
     ]
    },
    {
     "name": "stderr",
     "output_type": "stream",
     "text": [
      "d:\\Programing\\Gitted\\Datamining_course\\python_env\\lib\\site-packages\\sklearn\\utils\\deprecation.py:87: FutureWarning: Function plot_confusion_matrix is deprecated; Function `plot_confusion_matrix` is deprecated in 1.0 and will be removed in 1.2. Use one of the class methods: ConfusionMatrixDisplay.from_predictions or ConfusionMatrixDisplay.from_estimator.\n",
      "  warnings.warn(msg, category=FutureWarning)\n"
     ]
    },
    {
     "data": {
      "image/png": "[encoded data removed]",
      "text/plain": [
       "<Figure size 640x480 with 2 Axes>"
      ]
     },
     "metadata": {},
     "output_type": "display_data"
    }
   ],
   "source": [
    "clf = RandomForestClassifier(n_estimators=20)\n",
    "clf.fit(train_data,train_res)\n",
    "predicted_Y = clf.predict(test_data)\n",
    "Y_test_proba = clf.predict_proba(test_data)[:,1]\n",
    "\n",
    "#predicted_Y = [ i>0.2 for i in Y_test_proba]\n",
    "\n",
    "\n",
    "print(acc(test_res,predicted_Y))\n",
    "\n",
    "print(bas(test_res,predicted_Y))\n",
    "pcm(clf,test_data,test_res)\n",
    "predicted_Y = clf.predict(unknown_data)"
   ]
  },
  {
   "cell_type": "code",
   "execution_count": 31,
   "metadata": {},
   "outputs": [
    {
     "data": {
      "image/png": "[encoded data removed]",
      "text/plain": [
       "<Figure size 640x480 with 1 Axes>"
      ]
     },
     "metadata": {},
     "output_type": "display_data"
    },
    {
     "name": "stdout",
     "output_type": "stream",
     "text": [
      "0.9487534626038782\n",
      "0.9480306850325914\n"
     ]
    },
    {
     "name": "stderr",
     "output_type": "stream",
     "text": [
      "d:\\Programing\\Gitted\\Datamining_course\\python_env\\lib\\site-packages\\sklearn\\utils\\deprecation.py:87: FutureWarning: Function plot_confusion_matrix is deprecated; Function `plot_confusion_matrix` is deprecated in 1.0 and will be removed in 1.2. Use one of the class methods: ConfusionMatrixDisplay.from_predictions or ConfusionMatrixDisplay.from_estimator.\n",
      "  warnings.warn(msg, category=FutureWarning)\n"
     ]
    },
    {
     "data": {
      "image/png": "[encoded data removed]",
      "text/plain": [
       "<Figure size 640x480 with 2 Axes>"
      ]
     },
     "metadata": {},
     "output_type": "display_data"
    }
   ],
   "source": [
    "pca = PCA(n_components=50)\n",
    "pca = pca.fit(train_data)\n",
    "train_pca = pca.transform(train_data)\n",
    "\n",
    "test_pca = pca.transform(test_data)\n",
    "\n",
    "#Real_pca = pca.transform(Test)\n",
    "\n",
    "#reg = linear_model.BayesianRidge()\n",
    "\n",
    "#plt.scatter(train_pca)\n",
    "plt.scatter(train_pca[:,1],train_pca[:,6],c=train_res)\n",
    "plt.show()\n",
    "\n",
    "#clf = DTC(random_state=42,criterion = \"gini\",min_samples_split = 100,max_features = \"sqrt\")#\"entropy\"  #log_loss\n",
    "#clf = clf.fit(train_pca,test_res)\n",
    "#reg = reg.fit(train_pca,y_train)\n",
    "\n",
    "#print(reg.coef_)\n",
    "\n",
    "#predicted_Y = clf.predict(test_pca)\n",
    "#predicted_Y = reg.predict(test_pca)\n",
    "#Y_test_proba = clf.predict_proba(test_pca)[:,1]\n",
    "\n",
    "\n",
    "#print(acc(test_res,predicted_Y))\n",
    "\n",
    "#print(bas(test_res,predicted_Y,adjusted=True))\n",
    "#print(bas(test_res,predicted_Y,adjusted=False))\n",
    "\n",
    "#pcm(clf,train_pca,y_train)\n",
    "\n",
    "\n",
    "clf = RandomForestClassifier(n_estimators=20)\n",
    "clf.fit(train_pca,train_res)\n",
    "predicted_Y = clf.predict(test_pca)\n",
    "Y_test_proba = clf.predict_proba(test_pca)[:,1]\n",
    "\n",
    "#predicted_Y = [ i>0.2 for i in Y_test_proba]\n",
    "\n",
    "\n",
    "print(acc(test_res,predicted_Y))\n",
    "\n",
    "print(bas(test_res,predicted_Y))\n",
    "pcm(clf,test_pca,test_res)\n",
    "\n",
    "Real_pca = pca.transform(unknown_data)\n",
    "\n",
    "predicted_Y = clf.predict(Real_pca)\n",
    "\n"
   ]
  },
  {
   "cell_type": "code",
   "execution_count": 33,
   "metadata": {},
   "outputs": [
    {
     "ename": "FloatingPointError",
     "evalue": "underflow encountered in exp",
     "output_type": "error",
     "traceback": [
      "\u001b[1;31m---------------------------------------------------------------------------\u001b[0m",
      "\u001b[1;31mFloatingPointError\u001b[0m                        Traceback (most recent call last)",
      "Cell \u001b[1;32mIn [33], line 5\u001b[0m\n\u001b[0;32m      3\u001b[0m clf_dtc\u001b[39m.\u001b[39mfit(train_data,train_res)\n\u001b[0;32m      4\u001b[0m predicted_Y \u001b[39m=\u001b[39m clf_dtc\u001b[39m.\u001b[39mpredict(test_data)\n\u001b[1;32m----> 5\u001b[0m Y_test_proba \u001b[39m=\u001b[39m clf_dtc\u001b[39m.\u001b[39;49mpredict_proba(test_data)[:,\u001b[39m1\u001b[39m]\n\u001b[0;32m      7\u001b[0m \u001b[39m#predicted_Y = [ i>0.2 for i in Y_test_proba]\u001b[39;00m\n\u001b[0;32m      9\u001b[0m \u001b[39mprint\u001b[39m(acc(test_res,predicted_Y))\n",
      "File \u001b[1;32md:\\Programing\\Gitted\\Datamining_course\\python_env\\lib\\site-packages\\sklearn\\naive_bayes.py:123\u001b[0m, in \u001b[0;36m_BaseNB.predict_proba\u001b[1;34m(self, X)\u001b[0m\n\u001b[0;32m    107\u001b[0m \u001b[39mdef\u001b[39;00m \u001b[39mpredict_proba\u001b[39m(\u001b[39mself\u001b[39m, X):\n\u001b[0;32m    108\u001b[0m     \u001b[39m\"\"\"\u001b[39;00m\n\u001b[0;32m    109\u001b[0m \u001b[39m    Return probability estimates for the test vector X.\u001b[39;00m\n\u001b[0;32m    110\u001b[0m \n\u001b[1;32m   (...)\u001b[0m\n\u001b[0;32m    121\u001b[0m \u001b[39m        order, as they appear in the attribute :term:`classes_`.\u001b[39;00m\n\u001b[0;32m    122\u001b[0m \u001b[39m    \"\"\"\u001b[39;00m\n\u001b[1;32m--> 123\u001b[0m     \u001b[39mreturn\u001b[39;00m np\u001b[39m.\u001b[39mexp(\u001b[39mself\u001b[39;49m\u001b[39m.\u001b[39;49mpredict_log_proba(X))\n",
      "File \u001b[1;32md:\\Programing\\Gitted\\Datamining_course\\python_env\\lib\\site-packages\\sklearn\\naive_bayes.py:104\u001b[0m, in \u001b[0;36m_BaseNB.predict_log_proba\u001b[1;34m(self, X)\u001b[0m\n\u001b[0;32m    102\u001b[0m jll \u001b[39m=\u001b[39m \u001b[39mself\u001b[39m\u001b[39m.\u001b[39m_joint_log_likelihood(X)\n\u001b[0;32m    103\u001b[0m \u001b[39m# normalize by P(x) = P(f_1, ..., f_n)\u001b[39;00m\n\u001b[1;32m--> 104\u001b[0m log_prob_x \u001b[39m=\u001b[39m logsumexp(jll, axis\u001b[39m=\u001b[39;49m\u001b[39m1\u001b[39;49m)\n\u001b[0;32m    105\u001b[0m \u001b[39mreturn\u001b[39;00m jll \u001b[39m-\u001b[39m np\u001b[39m.\u001b[39matleast_2d(log_prob_x)\u001b[39m.\u001b[39mT\n",
      "File \u001b[1;32md:\\Programing\\Gitted\\Datamining_course\\python_env\\lib\\site-packages\\scipy\\special\\_logsumexp.py:110\u001b[0m, in \u001b[0;36mlogsumexp\u001b[1;34m(a, axis, b, keepdims, return_sign)\u001b[0m\n\u001b[0;32m    108\u001b[0m     tmp \u001b[39m=\u001b[39m b \u001b[39m*\u001b[39m np\u001b[39m.\u001b[39mexp(a \u001b[39m-\u001b[39m a_max)\n\u001b[0;32m    109\u001b[0m \u001b[39melse\u001b[39;00m:\n\u001b[1;32m--> 110\u001b[0m     tmp \u001b[39m=\u001b[39m np\u001b[39m.\u001b[39;49mexp(a \u001b[39m-\u001b[39;49m a_max)\n\u001b[0;32m    112\u001b[0m \u001b[39m# suppress warnings about log of zero\u001b[39;00m\n\u001b[0;32m    113\u001b[0m \u001b[39mwith\u001b[39;00m np\u001b[39m.\u001b[39merrstate(divide\u001b[39m=\u001b[39m\u001b[39m'\u001b[39m\u001b[39mignore\u001b[39m\u001b[39m'\u001b[39m):\n",
      "\u001b[1;31mFloatingPointError\u001b[0m: underflow encountered in exp"
     ]
    }
   ],
   "source": [
    "clf_dtc = GaussianNB()\n",
    "\n",
    "clf_dtc.fit(train_data,train_res)\n",
    "predicted_Y = clf_dtc.predict(test_data)\n",
    "Y_test_proba = clf_dtc.predict_proba(test_data)[:,1]\n",
    "\n",
    "#predicted_Y = [ i>0.2 for i in Y_test_proba]\n",
    "\n",
    "print(acc(test_res,predicted_Y))\n",
    "\n",
    "print(bas(test_res,predicted_Y))\n",
    "pcm(clf_dtc,test_data,test_res)\n",
    "error = 0\n",
    "for i in range(len(test_res)):\n",
    "\tif test_res._values[i] != predicted_Y[i]:\n",
    "\t\t#print(test_res._values[i],predicted_Y[i],Y_test_proba[i])\n",
    "\t\terror += 1 \n",
    "print(\"Error:\",error)\n",
    "print(fbeta_score(test_res, predicted_Y, average='binary', beta=0.5))\n",
    "print(\"precision\",precision_score(test_res,predicted_Y))\n",
    "print(\"recall\",recall_score(test_res,predicted_Y))\n",
    "\n",
    "#predicted_Y = clf.predict(Test)\n",
    "\n",
    "\n",
    "\n"
   ]
  },
  {
   "cell_type": "code",
   "execution_count": null,
   "metadata": {},
   "outputs": [],
   "source": [
    "#predicted_Y = clf.predict(Real_pca)\n",
    "print(len(predicted_Y), sum(predicted_Y))"
   ]
  },
  {
   "cell_type": "code",
   "execution_count": 35,
   "metadata": {},
   "outputs": [],
   "source": [
    "len(predicted_Y)\n",
    "\n",
    "f = open(\"schmidt_laszlo_pca_random_forest_removed_zeroes.csv\",'w')\n",
    "\n",
    "f.write(\"Id,Predicted\\n\")\n",
    "for i,val in enumerate(predicted_Y):\n",
    "\tf.write(\"{},{}\\n\".format(i,val))\n",
    "\n",
    "f.flush()\n",
    "f.close()"
   ]
  },
  {
   "cell_type": "code",
   "execution_count": null,
   "metadata": {},
   "outputs": [],
   "source": [
    "pca = PCA(n_components=2)\n",
    "pca = pca.fit(train)\n",
    "a = pca.transform(train)\n",
    "print(pca.explained_variance_ratio_)\n",
    "\n",
    "print(len(train),\",\",len(a))\n",
    "#plt.scatter(a,y_test)\n",
    "#plt.show()\n",
    "\n"
   ]
  }
 ],
 "metadata": {
  "kernelspec": {
   "display_name": "Python 3.10.6 ('python_env': venv)",
   "language": "python",
   "name": "python3"
  },
  "language_info": {
   "codemirror_mode": {
    "name": "ipython",
    "version": 3
   },
   "file_extension": ".py",
   "mimetype": "text/x-python",
   "name": "python",
   "nbconvert_exporter": "python",
   "pygments_lexer": "ipython3",
   "version": "3.10.6"
  },
  "orig_nbformat": 4,
  "vscode": {
   "interpreter": {
    "hash": "2c04eb4a0b16f4d74363df0e3af9c29b1d83d6e0a755e6e140f7182eb118dcf6"
   }
  }
 },
 "nbformat": 4,
 "nbformat_minor": 2
}

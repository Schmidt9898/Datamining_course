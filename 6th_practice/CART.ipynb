{
 "cells": [
  {
   "cell_type": "code",
   "execution_count": null,
   "metadata": {},
   "outputs": [],
   "source": [
    "import numpy as np\n",
    "import pandas as pd\n",
    "\n",
    "from sklearn.tree import DecisionTreeClassifier as DTC\n",
    "from sklearn.metrics import accuracy_score as acc"
   ]
  },
  {
   "cell_type": "code",
   "execution_count": null,
   "metadata": {},
   "outputs": [],
   "source": [
    "# Some arbitrary data transformation for easier handling\n",
    "\n",
    "train = pd.read_csv('data/train.csv') # train data\n",
    "train = train[['Survived','Pclass','Sex','Age','SibSp','Parch','Fare','Embarked']]\n",
    "train = pd.get_dummies(train)\n",
    "train = train.fillna(train.median())\n",
    "test = pd.read_csv('data/test.csv') # test data\n",
    "test = test[['Pclass','Sex','Age','SibSp','Parch','Fare','Embarked']]\n",
    "test = pd.get_dummies(test)\n",
    "test = test.fillna(test.median())\n",
    "res = pd.read_csv('data/gender_submission.csv') # ground truth\n",
    "res = res['Survived']\n",
    "\n",
    "# Split train to features and targets\n",
    "\n",
    "Y_train = np.array(train.iloc[:, [0]])\n",
    "X_train = train.drop(train.iloc[:, [0]].columns, axis=1)"
   ]
  },
  {
   "cell_type": "code",
   "execution_count": null,
   "metadata": {},
   "outputs": [],
   "source": [
    "clf = DTC(random_state=42)\n",
    "clf.fit(X_train,Y_train.ravel())\n",
    "Y_test = clf.predict(test)\n",
    "Y_test_proba = clf.predict_proba(test)[:,1]"
   ]
  }
 ],
 "metadata": {
  "language_info": {
   "name": "python"
  },
  "orig_nbformat": 4
 },
 "nbformat": 4,
 "nbformat_minor": 2
}
